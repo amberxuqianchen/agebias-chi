{
 "cells": [
  {
   "attachments": {},
   "cell_type": "markdown",
   "metadata": {},
   "source": [
    "# Reference line for the trend/bootstrap"
   ]
  },
  {
   "cell_type": "code",
   "execution_count": 21,
   "metadata": {},
   "outputs": [],
   "source": [
    "import random\n",
    "import statistics\n",
    "import pandas as pd\n",
    "import numpy as np\n",
    "import gensim\n",
    "from gensim.models import KeyedVectors\n",
    "from gensim.models import Word2Vec\n",
    "import matplotlib.pyplot as plt"
   ]
  },
  {
   "cell_type": "code",
   "execution_count": 5,
   "metadata": {},
   "outputs": [],
   "source": [
    "# define a function for bootstrap\n",
    "def random_bias_year(old,young,length,simnum,path_output,filename):\n",
    "    \"\"\"Parameters:\n",
    "    old: the word list for older adults\n",
    "    young: the word list for young people\n",
    "    length: the number of words in the list of domains (e.g., moral foundation, agiest attitude, etc.)\"\"\"\n",
    "    yearlist = []\n",
    "    meanlist = []\n",
    "    lower95list = []\n",
    "    upper95list = []\n",
    "    \n",
    "    models = {year: globals()[f'model{year}'] for year in range(1950, 2022)}\n",
    "    \n",
    "    for year in range(1950, 2022):\n",
    "        model = models[year]\n",
    "        vocabulary_year = model.wv.index_to_key\n",
    "        ref_lists = [[vocabulary_year[i] for i in random.sample(range(len(vocabulary_year)), k=length)] for n in range(simnum+1)]\n",
    "        similarities_A = [[model.wv.similarity(x, y) for x in ref_list for y in old if y in model.wv] for ref_list in ref_lists]\n",
    "        similarities_B = [[model.wv.similarity(x, z) for x in ref_list for z in young if z in model.wv] for ref_list in ref_lists]\n",
    "        biases = [statistics.mean(similarities_A[i]) - statistics.mean(similarities_B[i]) for i in range(simnum+1)]\n",
    "        result = pd.DataFrame({'bias': biases})\n",
    "        \n",
    "        yearlist.append(year)\n",
    "        meanlist.append(result['bias'].mean())\n",
    "        lower95list.append(result['bias'].quantile(0.025))\n",
    "        upper95list.append(result['bias'].quantile(0.975))\n",
    "        \n",
    "        result.to_csv(f\"{path_output}{filename}_{year}.csv\", index=False)\n",
    "    \n",
    "    result = pd.DataFrame({'year': yearlist, 'mean_similarity': meanlist,\n",
    "                           '95percent_lower': lower95list, '95percent_upper': upper95list})\n",
    "    result.to_csv(f\"{path_output}{filename}.csv\", index=False)\n",
    "    return result"
   ]
  }
 ],
 "metadata": {
  "kernelspec": {
   "display_name": "python38",
   "language": "python",
   "name": "python3"
  },
  "language_info": {
   "codemirror_mode": {
    "name": "ipython",
    "version": 3
   },
   "file_extension": ".py",
   "mimetype": "text/x-python",
   "name": "python",
   "nbconvert_exporter": "python",
   "pygments_lexer": "ipython3",
   "version": "3.8.16"
  },
  "orig_nbformat": 4,
  "vscode": {
   "interpreter": {
    "hash": "eb5a797fedbb4080e6bb9d01457de745721c6de9a7a2990f8941347737300212"
   }
  }
 },
 "nbformat": 4,
 "nbformat_minor": 2
}
